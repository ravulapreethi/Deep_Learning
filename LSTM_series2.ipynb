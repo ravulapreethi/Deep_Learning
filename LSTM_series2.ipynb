{
  "nbformat": 4,
  "nbformat_minor": 0,
  "metadata": {
    "colab": {
      "name": "LSTM_series2.ipynb",
      "provenance": [],
      "collapsed_sections": []
    },
    "kernelspec": {
      "name": "python3",
      "display_name": "Python 3"
    }
  },
  "cells": [
    {
      "cell_type": "code",
      "metadata": {
        "id": "QVNUJ3eVWUvA",
        "colab_type": "code",
        "colab": {}
      },
      "source": [
        "import tensorflow as tf\n",
        "#import keras\n",
        "import numpy as np\n",
        "import matplotlib.pyplot as plt\n",
        "import pandas as pd\n"
      ],
      "execution_count": 1,
      "outputs": []
    },
    {
      "cell_type": "code",
      "metadata": {
        "id": "lHRjnaafWmQM",
        "colab_type": "code",
        "colab": {}
      },
      "source": [
        "from tensorflow.keras.layers import Input, Dense, SimpleRNN\n",
        "from tensorflow.keras.models import Model\n",
        "from tensorflow.keras.optimizers import SGD, Adam"
      ],
      "execution_count": 2,
      "outputs": []
    },
    {
      "cell_type": "code",
      "metadata": {
        "id": "l7KmZtqsWola",
        "colab_type": "code",
        "colab": {
          "base_uri": "https://localhost:8080/",
          "height": 265
        },
        "outputId": "600ccf45-22cb-43cf-c24a-a2d235aee68d"
      },
      "source": [
        "series = np.sin(0.1*np.arange(200))+ np.random.randn(200)*0.1 # with noise \n",
        "plt.plot(series)\n",
        "plt.show()"
      ],
      "execution_count": 3,
      "outputs": [
        {
          "output_type": "display_data",
          "data": {
            "image/png": "[encoded data removed]",
            "text/plain": [
              "<Figure size 432x288 with 1 Axes>"
            ]
          },
          "metadata": {
            "tags": [],
            "needs_background": "light"
          }
        }
      ]
    },
    {
      "cell_type": "code",
      "metadata": {
        "id": "j75cY2DoYuvm",
        "colab_type": "code",
        "colab": {
          "base_uri": "https://localhost:8080/",
          "height": 35
        },
        "outputId": "be872ac9-3f72-4fa4-9441-a207b9c3fb7e"
      },
      "source": [
        "T = 10 # we will use 10 previous values to predict the next value\n",
        "X = [] # input shape N x T x D for neueral networks, for Lr - N x T or N x D as D = 1 \n",
        "# so X shape will be N x 10, N = L-T = 190, so with x values 190-199, we predict 200th value which would be yhat \n",
        "Y = [] # for x1-x10, y - x11, x2-x11, y-x12,.... x190-x199, y - x200 , so y shape is x11----x200, 190 x 1 i.e., 190 x 1\n",
        "for i in range(len(series)-T):\n",
        "    x = series[i:i+T] # stores x2-x11\n",
        "    X.append(x)\n",
        "    y = series[i+T]\n",
        "    Y.append(y)\n",
        "\n",
        "X = np.array(X).reshape(-1,T,1) #creates N x T array for linear, and N x T x D for LSTM's and GRU's\n",
        "Y = np.array(Y) # creates an array of size N\n",
        "print(X.shape, Y.shape)"
      ],
      "execution_count": 4,
      "outputs": [
        {
          "output_type": "stream",
          "text": [
            "(190, 10, 1) (190,)\n"
          ],
          "name": "stdout"
        }
      ]
    },
    {
      "cell_type": "code",
      "metadata": {
        "id": "-y9i4-XbY3fn",
        "colab_type": "code",
        "colab": {}
      },
      "source": [
        "##try LSTM model\n",
        "\n",
        "model = tf.keras.models.Sequential()\n",
        "model.add(tf.keras.layers.Input(shape=(T,1)))\n",
        "model.add(tf.keras.layers.LSTM(50))\n",
        "model.add(tf.keras.layers.Dense(1))\n",
        "model.compile(optimizer=Adam(0.005), loss='mse')\n"
      ],
      "execution_count": 45,
      "outputs": []
    },
    {
      "cell_type": "code",
      "metadata": {
        "id": "nLJKhJjwsuRl",
        "colab_type": "code",
        "colab": {}
      },
      "source": [
        "##try SimpleRNN model\n",
        "\n",
        "#model = tf.keras.models.Sequential()\n",
        "#model.add(tf.keras.layers.Input(shape=(T,1)))\n",
        "#model.add(tf.keras.layers.SimpleRNN(50))\n",
        "#model.add(tf.keras.layers.Dense(1))\n",
        "#model.compile(optimizer=Adam(0.01), loss='mse')\n"
      ],
      "execution_count": 46,
      "outputs": []
    },
    {
      "cell_type": "code",
      "metadata": {
        "id": "knz7zdRzY6At",
        "colab_type": "code",
        "colab": {}
      },
      "source": [
        "### try autoregressive linear model\n",
        "\n",
        "#i = Input(shape=(T,))\n",
        "#x = Dense(1)(i)\n",
        "#model = Model(i, x)\n",
        "#model.compile(\n",
        "#  loss='mse',\n",
        "#  optimizer=Adam(lr=0.1),\n",
        "#)\n",
        "\n",
        "#r = model.fit(\n",
        "#  X[:-N//2], Y[:-N//2],\n",
        "#  epochs=80,\n",
        "#  validation_data=(X[-N//2:], Y[-N//2:]),\n",
        "#)"
      ],
      "execution_count": 47,
      "outputs": []
    },
    {
      "cell_type": "code",
      "metadata": {
        "id": "oCcHLWkuY9LL",
        "colab_type": "code",
        "colab": {
          "base_uri": "https://localhost:8080/",
          "height": 1000
        },
        "outputId": "d17313f6-3f87-48db-d80a-5caab35edcf7"
      },
      "source": [
        "N = len(X)\n",
        "#r = model.fit(X[0:96,:],Y[0:96], validation_data= (X[96:-1,:],Y[96:-1]),  epochs=80)\n",
        "r = model.fit(X[:-int(N/2)],Y[:-int(N/2)], validation_data= (X[-int(N/2):],Y[-int(N/2):]),  epochs=100)\n",
        "# our model trains on first half of data set and validates on second half of data set"
      ],
      "execution_count": 48,
      "outputs": [
        {
          "output_type": "stream",
          "text": [
            "Epoch 1/100\n",
            "3/3 [==============================] - 0s 144ms/step - loss: 0.3328 - val_loss: 0.1848\n",
            "Epoch 2/100\n",
            "3/3 [==============================] - 0s 20ms/step - loss: 0.1760 - val_loss: 0.1517\n",
            "Epoch 3/100\n",
            "3/3 [==============================] - 0s 22ms/step - loss: 0.1268 - val_loss: 0.1274\n",
            "Epoch 4/100\n",
            "3/3 [==============================] - 0s 21ms/step - loss: 0.1048 - val_loss: 0.1019\n",
            "Epoch 5/100\n",
            "3/3 [==============================] - 0s 19ms/step - loss: 0.0875 - val_loss: 0.0763\n",
            "Epoch 6/100\n",
            "3/3 [==============================] - 0s 19ms/step - loss: 0.0569 - val_loss: 0.0530\n",
            "Epoch 7/100\n",
            "3/3 [==============================] - 0s 19ms/step - loss: 0.0435 - val_loss: 0.0372\n",
            "Epoch 8/100\n",
            "3/3 [==============================] - 0s 18ms/step - loss: 0.0255 - val_loss: 0.0312\n",
            "Epoch 9/100\n",
            "3/3 [==============================] - 0s 21ms/step - loss: 0.0194 - val_loss: 0.0197\n",
            "Epoch 10/100\n",
            "3/3 [==============================] - 0s 18ms/step - loss: 0.0163 - val_loss: 0.0228\n",
            "Epoch 11/100\n",
            "3/3 [==============================] - 0s 18ms/step - loss: 0.0175 - val_loss: 0.0270\n",
            "Epoch 12/100\n",
            "3/3 [==============================] - 0s 20ms/step - loss: 0.0172 - val_loss: 0.0222\n",
            "Epoch 13/100\n",
            "3/3 [==============================] - 0s 18ms/step - loss: 0.0155 - val_loss: 0.0192\n",
            "Epoch 14/100\n",
            "3/3 [==============================] - 0s 22ms/step - loss: 0.0135 - val_loss: 0.0203\n",
            "Epoch 15/100\n",
            "3/3 [==============================] - 0s 21ms/step - loss: 0.0136 - val_loss: 0.0216\n",
            "Epoch 16/100\n",
            "3/3 [==============================] - 0s 19ms/step - loss: 0.0136 - val_loss: 0.0204\n",
            "Epoch 17/100\n",
            "3/3 [==============================] - 0s 23ms/step - loss: 0.0128 - val_loss: 0.0198\n",
            "Epoch 18/100\n",
            "3/3 [==============================] - 0s 19ms/step - loss: 0.0125 - val_loss: 0.0195\n",
            "Epoch 19/100\n",
            "3/3 [==============================] - 0s 19ms/step - loss: 0.0118 - val_loss: 0.0190\n",
            "Epoch 20/100\n",
            "3/3 [==============================] - 0s 18ms/step - loss: 0.0114 - val_loss: 0.0190\n",
            "Epoch 21/100\n",
            "3/3 [==============================] - 0s 20ms/step - loss: 0.0117 - val_loss: 0.0191\n",
            "Epoch 22/100\n",
            "3/3 [==============================] - 0s 20ms/step - loss: 0.0117 - val_loss: 0.0190\n",
            "Epoch 23/100\n",
            "3/3 [==============================] - 0s 35ms/step - loss: 0.0117 - val_loss: 0.0192\n",
            "Epoch 24/100\n",
            "3/3 [==============================] - 0s 23ms/step - loss: 0.0115 - val_loss: 0.0188\n",
            "Epoch 25/100\n",
            "3/3 [==============================] - 0s 19ms/step - loss: 0.0116 - val_loss: 0.0188\n",
            "Epoch 26/100\n",
            "3/3 [==============================] - 0s 18ms/step - loss: 0.0124 - val_loss: 0.0191\n",
            "Epoch 27/100\n",
            "3/3 [==============================] - 0s 22ms/step - loss: 0.0117 - val_loss: 0.0191\n",
            "Epoch 28/100\n",
            "3/3 [==============================] - 0s 23ms/step - loss: 0.0116 - val_loss: 0.0189\n",
            "Epoch 29/100\n",
            "3/3 [==============================] - 0s 22ms/step - loss: 0.0115 - val_loss: 0.0190\n",
            "Epoch 30/100\n",
            "3/3 [==============================] - 0s 21ms/step - loss: 0.0113 - val_loss: 0.0187\n",
            "Epoch 31/100\n",
            "3/3 [==============================] - 0s 19ms/step - loss: 0.0113 - val_loss: 0.0188\n",
            "Epoch 32/100\n",
            "3/3 [==============================] - 0s 17ms/step - loss: 0.0113 - val_loss: 0.0189\n",
            "Epoch 33/100\n",
            "3/3 [==============================] - 0s 21ms/step - loss: 0.0115 - val_loss: 0.0188\n",
            "Epoch 34/100\n",
            "3/3 [==============================] - 0s 19ms/step - loss: 0.0113 - val_loss: 0.0191\n",
            "Epoch 35/100\n",
            "3/3 [==============================] - 0s 20ms/step - loss: 0.0114 - val_loss: 0.0189\n",
            "Epoch 36/100\n",
            "3/3 [==============================] - 0s 22ms/step - loss: 0.0114 - val_loss: 0.0190\n",
            "Epoch 37/100\n",
            "3/3 [==============================] - 0s 22ms/step - loss: 0.0115 - val_loss: 0.0187\n",
            "Epoch 38/100\n",
            "3/3 [==============================] - 0s 20ms/step - loss: 0.0112 - val_loss: 0.0187\n",
            "Epoch 39/100\n",
            "3/3 [==============================] - 0s 20ms/step - loss: 0.0114 - val_loss: 0.0186\n",
            "Epoch 40/100\n",
            "3/3 [==============================] - 0s 19ms/step - loss: 0.0116 - val_loss: 0.0189\n",
            "Epoch 41/100\n",
            "3/3 [==============================] - 0s 20ms/step - loss: 0.0112 - val_loss: 0.0188\n",
            "Epoch 42/100\n",
            "3/3 [==============================] - 0s 22ms/step - loss: 0.0114 - val_loss: 0.0186\n",
            "Epoch 43/100\n",
            "3/3 [==============================] - 0s 20ms/step - loss: 0.0115 - val_loss: 0.0187\n",
            "Epoch 44/100\n",
            "3/3 [==============================] - 0s 18ms/step - loss: 0.0123 - val_loss: 0.0189\n",
            "Epoch 45/100\n",
            "3/3 [==============================] - 0s 19ms/step - loss: 0.0115 - val_loss: 0.0190\n",
            "Epoch 46/100\n",
            "3/3 [==============================] - 0s 19ms/step - loss: 0.0120 - val_loss: 0.0190\n",
            "Epoch 47/100\n",
            "3/3 [==============================] - 0s 19ms/step - loss: 0.0116 - val_loss: 0.0186\n",
            "Epoch 48/100\n",
            "3/3 [==============================] - 0s 19ms/step - loss: 0.0111 - val_loss: 0.0188\n",
            "Epoch 49/100\n",
            "3/3 [==============================] - 0s 21ms/step - loss: 0.0113 - val_loss: 0.0186\n",
            "Epoch 50/100\n",
            "3/3 [==============================] - 0s 20ms/step - loss: 0.0120 - val_loss: 0.0187\n",
            "Epoch 51/100\n",
            "3/3 [==============================] - 0s 18ms/step - loss: 0.0110 - val_loss: 0.0192\n",
            "Epoch 52/100\n",
            "3/3 [==============================] - 0s 22ms/step - loss: 0.0116 - val_loss: 0.0187\n",
            "Epoch 53/100\n",
            "3/3 [==============================] - 0s 18ms/step - loss: 0.0111 - val_loss: 0.0186\n",
            "Epoch 54/100\n",
            "3/3 [==============================] - 0s 18ms/step - loss: 0.0110 - val_loss: 0.0186\n",
            "Epoch 55/100\n",
            "3/3 [==============================] - 0s 19ms/step - loss: 0.0115 - val_loss: 0.0187\n",
            "Epoch 56/100\n",
            "3/3 [==============================] - 0s 18ms/step - loss: 0.0116 - val_loss: 0.0190\n",
            "Epoch 57/100\n",
            "3/3 [==============================] - 0s 20ms/step - loss: 0.0111 - val_loss: 0.0186\n",
            "Epoch 58/100\n",
            "3/3 [==============================] - 0s 18ms/step - loss: 0.0110 - val_loss: 0.0186\n",
            "Epoch 59/100\n",
            "3/3 [==============================] - 0s 23ms/step - loss: 0.0111 - val_loss: 0.0186\n",
            "Epoch 60/100\n",
            "3/3 [==============================] - 0s 23ms/step - loss: 0.0112 - val_loss: 0.0187\n",
            "Epoch 61/100\n",
            "3/3 [==============================] - 0s 21ms/step - loss: 0.0114 - val_loss: 0.0186\n",
            "Epoch 62/100\n",
            "3/3 [==============================] - 0s 18ms/step - loss: 0.0130 - val_loss: 0.0193\n",
            "Epoch 63/100\n",
            "3/3 [==============================] - 0s 19ms/step - loss: 0.0112 - val_loss: 0.0195\n",
            "Epoch 64/100\n",
            "3/3 [==============================] - 0s 18ms/step - loss: 0.0120 - val_loss: 0.0188\n",
            "Epoch 65/100\n",
            "3/3 [==============================] - 0s 19ms/step - loss: 0.0119 - val_loss: 0.0185\n",
            "Epoch 66/100\n",
            "3/3 [==============================] - 0s 19ms/step - loss: 0.0117 - val_loss: 0.0187\n",
            "Epoch 67/100\n",
            "3/3 [==============================] - 0s 20ms/step - loss: 0.0112 - val_loss: 0.0196\n",
            "Epoch 68/100\n",
            "3/3 [==============================] - 0s 18ms/step - loss: 0.0112 - val_loss: 0.0187\n",
            "Epoch 69/100\n",
            "3/3 [==============================] - 0s 19ms/step - loss: 0.0113 - val_loss: 0.0189\n",
            "Epoch 70/100\n",
            "3/3 [==============================] - 0s 18ms/step - loss: 0.0108 - val_loss: 0.0188\n",
            "Epoch 71/100\n",
            "3/3 [==============================] - 0s 27ms/step - loss: 0.0116 - val_loss: 0.0191\n",
            "Epoch 72/100\n",
            "3/3 [==============================] - 0s 21ms/step - loss: 0.0109 - val_loss: 0.0192\n",
            "Epoch 73/100\n",
            "3/3 [==============================] - 0s 23ms/step - loss: 0.0116 - val_loss: 0.0186\n",
            "Epoch 74/100\n",
            "3/3 [==============================] - 0s 20ms/step - loss: 0.0111 - val_loss: 0.0188\n",
            "Epoch 75/100\n",
            "3/3 [==============================] - 0s 21ms/step - loss: 0.0110 - val_loss: 0.0189\n",
            "Epoch 76/100\n",
            "3/3 [==============================] - 0s 19ms/step - loss: 0.0114 - val_loss: 0.0186\n",
            "Epoch 77/100\n",
            "3/3 [==============================] - 0s 20ms/step - loss: 0.0115 - val_loss: 0.0186\n",
            "Epoch 78/100\n",
            "3/3 [==============================] - 0s 20ms/step - loss: 0.0113 - val_loss: 0.0187\n",
            "Epoch 79/100\n",
            "3/3 [==============================] - 0s 20ms/step - loss: 0.0109 - val_loss: 0.0189\n",
            "Epoch 80/100\n",
            "3/3 [==============================] - 0s 22ms/step - loss: 0.0113 - val_loss: 0.0186\n",
            "Epoch 81/100\n",
            "3/3 [==============================] - 0s 19ms/step - loss: 0.0108 - val_loss: 0.0187\n",
            "Epoch 82/100\n",
            "3/3 [==============================] - 0s 19ms/step - loss: 0.0111 - val_loss: 0.0187\n",
            "Epoch 83/100\n",
            "3/3 [==============================] - 0s 19ms/step - loss: 0.0127 - val_loss: 0.0191\n",
            "Epoch 84/100\n",
            "3/3 [==============================] - 0s 18ms/step - loss: 0.0113 - val_loss: 0.0197\n",
            "Epoch 85/100\n",
            "3/3 [==============================] - 0s 22ms/step - loss: 0.0112 - val_loss: 0.0190\n",
            "Epoch 86/100\n",
            "3/3 [==============================] - 0s 19ms/step - loss: 0.0116 - val_loss: 0.0186\n",
            "Epoch 87/100\n",
            "3/3 [==============================] - 0s 21ms/step - loss: 0.0109 - val_loss: 0.0187\n",
            "Epoch 88/100\n",
            "3/3 [==============================] - 0s 19ms/step - loss: 0.0108 - val_loss: 0.0188\n",
            "Epoch 89/100\n",
            "3/3 [==============================] - 0s 18ms/step - loss: 0.0112 - val_loss: 0.0186\n",
            "Epoch 90/100\n",
            "3/3 [==============================] - 0s 24ms/step - loss: 0.0108 - val_loss: 0.0187\n",
            "Epoch 91/100\n",
            "3/3 [==============================] - 0s 20ms/step - loss: 0.0109 - val_loss: 0.0186\n",
            "Epoch 92/100\n",
            "3/3 [==============================] - 0s 19ms/step - loss: 0.0113 - val_loss: 0.0188\n",
            "Epoch 93/100\n",
            "3/3 [==============================] - 0s 20ms/step - loss: 0.0117 - val_loss: 0.0192\n",
            "Epoch 94/100\n",
            "3/3 [==============================] - 0s 19ms/step - loss: 0.0112 - val_loss: 0.0198\n",
            "Epoch 95/100\n",
            "3/3 [==============================] - 0s 20ms/step - loss: 0.0110 - val_loss: 0.0192\n",
            "Epoch 96/100\n",
            "3/3 [==============================] - 0s 20ms/step - loss: 0.0124 - val_loss: 0.0188\n",
            "Epoch 97/100\n",
            "3/3 [==============================] - 0s 19ms/step - loss: 0.0114 - val_loss: 0.0198\n",
            "Epoch 98/100\n",
            "3/3 [==============================] - 0s 19ms/step - loss: 0.0112 - val_loss: 0.0205\n",
            "Epoch 99/100\n",
            "3/3 [==============================] - 0s 22ms/step - loss: 0.0118 - val_loss: 0.0187\n",
            "Epoch 100/100\n",
            "3/3 [==============================] - 0s 21ms/step - loss: 0.0107 - val_loss: 0.0190\n"
          ],
          "name": "stdout"
        }
      ]
    },
    {
      "cell_type": "code",
      "metadata": {
        "id": "lSMD5fkdY92e",
        "colab_type": "code",
        "colab": {
          "base_uri": "https://localhost:8080/",
          "height": 283
        },
        "outputId": "9289294f-2267-45b0-ecfc-bfa9cf46014f"
      },
      "source": [
        "plt.plot(r.history['loss'], label='loss')\n",
        "plt.plot(r.history['val_loss'], label='val_loss')\n",
        "plt.legend()"
      ],
      "execution_count": 49,
      "outputs": [
        {
          "output_type": "execute_result",
          "data": {
            "text/plain": [
              "<matplotlib.legend.Legend at 0x7f389613d358>"
            ]
          },
          "metadata": {
            "tags": []
          },
          "execution_count": 49
        },
        {
          "output_type": "display_data",
          "data": {
            "image/png": "[encoded data removed]",
            "text/plain": [
              "<Figure size 432x288 with 1 Axes>"
            ]
          },
          "metadata": {
            "tags": [],
            "needs_background": "light"
          }
        }
      ]
    },
    {
      "cell_type": "code",
      "metadata": {
        "id": "6NgBzDrRZChD",
        "colab_type": "code",
        "colab": {}
      },
      "source": [
        "#N = len(X)\n",
        "val_predictions = []\n",
        "val_target = Y[-int(N/2):]\n",
        "x_last = X[-int(N/2)]"
      ],
      "execution_count": 50,
      "outputs": []
    },
    {
      "cell_type": "code",
      "metadata": {
        "id": "tYX-o3AQZEK9",
        "colab_type": "code",
        "colab": {}
      },
      "source": [
        "while len(val_predictions)<len(val_target):\n",
        "      p = model.predict(x_last.reshape(1,-1, 1))[0,0]\n",
        "      # for predictions, we cant use the future values, so we can only use the predicted values\n",
        "      # p gives prediction for x[100] i.e., yhat[100], now assign x[101] with yhat[100]\n",
        "      # then use x[91] ... x[101] to predict y[101]\n",
        "      val_predictions.append(p)\n",
        "      x_last = np.roll(x_last, -1)\n",
        "      x_last[-1] = p\n",
        "      #[1,2,3,...10] --> [2,3,...10,1]--> [2,3,...10,p=x[11]]\n",
        "      #So shift or roll by minus 1 means shift everything one spot to the left the left most value ends up\n",
        "      #looping back around to the right.But we replace it anyway with P the latest prediction.\n",
        "      #So that's how we update the variable last X with our latest forecast prediction."
      ],
      "execution_count": 51,
      "outputs": []
    },
    {
      "cell_type": "code",
      "metadata": {
        "id": "QdFjYVMoZGpy",
        "colab_type": "code",
        "colab": {
          "base_uri": "https://localhost:8080/",
          "height": 283
        },
        "outputId": "6a572ce1-cd4d-46b7-83da-d5accd2739ee"
      },
      "source": [
        "plt.plot(val_predictions, label='val_predictions')\n",
        "plt.plot(val_target, label='val_target')\n",
        "plt.legend()"
      ],
      "execution_count": 52,
      "outputs": [
        {
          "output_type": "execute_result",
          "data": {
            "text/plain": [
              "<matplotlib.legend.Legend at 0x7f3893b37208>"
            ]
          },
          "metadata": {
            "tags": []
          },
          "execution_count": 52
        },
        {
          "output_type": "display_data",
          "data": {
            "image/png": "[encoded data removed]",
            "text/plain": [
              "<Figure size 432x288 with 1 Axes>"
            ]
          },
          "metadata": {
            "tags": [],
            "needs_background": "light"
          }
        }
      ]
    },
    {
      "cell_type": "code",
      "metadata": {
        "id": "0xlXHGJShqkc",
        "colab_type": "code",
        "colab": {}
      },
      "source": [
        ""
      ],
      "execution_count": 12,
      "outputs": []
    }
  ]
}